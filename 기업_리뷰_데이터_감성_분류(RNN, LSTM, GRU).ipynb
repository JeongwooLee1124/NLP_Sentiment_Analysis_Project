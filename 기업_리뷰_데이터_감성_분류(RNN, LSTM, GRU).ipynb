{
  "nbformat": 4,
  "nbformat_minor": 0,
  "metadata": {
    "accelerator": "GPU",
    "colab": {
      "name": "기업 리뷰 데이터 감성 분류(RNN, LSTM, GRU).ipynb",
      "provenance": [],
      "collapsed_sections": [],
      "machine_shape": "hm"
    },
    "kernelspec": {
      "display_name": "Python 3",
      "language": "python",
      "name": "python3"
    },
    "language_info": {
      "codemirror_mode": {
        "name": "ipython",
        "version": 3
      },
      "file_extension": ".py",
      "mimetype": "text/x-python",
      "name": "python",
      "nbconvert_exporter": "python",
      "pygments_lexer": "ipython3",
      "version": "3.8.3"
    }
  },
  "cells": [
    {
      "cell_type": "markdown",
      "metadata": {
        "id": "-FFojoEfjoQn"
      },
      "source": [
        "## 데이터 가져오기"
      ]
    },
    {
      "cell_type": "code",
      "metadata": {
        "colab": {
          "base_uri": "https://localhost:8080/"
        },
        "id": "Dmo19USR5ZLv",
        "outputId": "bac67c79-cf64-4488-d8d6-462e91ec321a"
      },
      "source": [
        "from google.colab import drive \n",
        "drive.mount('/content/drive')"
      ],
      "execution_count": 1,
      "outputs": [
        {
          "output_type": "stream",
          "text": [
            "Drive already mounted at /content/drive; to attempt to forcibly remount, call drive.mount(\"/content/drive\", force_remount=True).\n"
          ],
          "name": "stdout"
        }
      ]
    },
    {
      "cell_type": "code",
      "metadata": {
        "colab": {
          "base_uri": "https://localhost:8080/"
        },
        "id": "2DlPkZEH5b_M",
        "outputId": "55a605da-15a8-40a6-b755-4be07637b05d"
      },
      "source": [
        "!pip install torchtext==0.3.1"
      ],
      "execution_count": 2,
      "outputs": [
        {
          "output_type": "stream",
          "text": [
            "Requirement already satisfied: torchtext==0.3.1 in /usr/local/lib/python3.7/dist-packages (0.3.1)\n",
            "Requirement already satisfied: tqdm in /usr/local/lib/python3.7/dist-packages (from torchtext==0.3.1) (4.41.1)\n",
            "Requirement already satisfied: requests in /usr/local/lib/python3.7/dist-packages (from torchtext==0.3.1) (2.23.0)\n",
            "Requirement already satisfied: numpy in /usr/local/lib/python3.7/dist-packages (from torchtext==0.3.1) (1.19.5)\n",
            "Requirement already satisfied: torch in /usr/local/lib/python3.7/dist-packages (from torchtext==0.3.1) (1.9.0+cu102)\n",
            "Requirement already satisfied: certifi>=2017.4.17 in /usr/local/lib/python3.7/dist-packages (from requests->torchtext==0.3.1) (2021.5.30)\n",
            "Requirement already satisfied: chardet<4,>=3.0.2 in /usr/local/lib/python3.7/dist-packages (from requests->torchtext==0.3.1) (3.0.4)\n",
            "Requirement already satisfied: idna<3,>=2.5 in /usr/local/lib/python3.7/dist-packages (from requests->torchtext==0.3.1) (2.10)\n",
            "Requirement already satisfied: urllib3!=1.25.0,!=1.25.1,<1.26,>=1.21.1 in /usr/local/lib/python3.7/dist-packages (from requests->torchtext==0.3.1) (1.24.3)\n",
            "Requirement already satisfied: typing-extensions in /usr/local/lib/python3.7/dist-packages (from torch->torchtext==0.3.1) (3.7.4.3)\n"
          ],
          "name": "stdout"
        }
      ]
    },
    {
      "cell_type": "code",
      "metadata": {
        "id": "oa35JCnCjoQw"
      },
      "source": [
        "import re\n",
        "import sys\n",
        "import random\n",
        "\n",
        "import torch\n",
        "import torch.nn as nn\n",
        "import torch.nn.functional as F\n",
        "\n",
        "from torchtext import data\n",
        "from torchtext import datasets\n",
        "\n",
        "import numpy as np "
      ],
      "execution_count": 3,
      "outputs": []
    },
    {
      "cell_type": "code",
      "metadata": {
        "id": "3I54nTBMAo8q"
      },
      "source": [
        "#  Seed 고정\n",
        "def torch_seed(random_seed=42):\n",
        "\n",
        "    torch.manual_seed(random_seed)\n",
        "\n",
        "    torch.cuda.manual_seed(random_seed)\n",
        "    torch.cuda.manual_seed_all(random_seed) # if use multi-GPU\n",
        "\n",
        "    torch.backends.cudnn.deterministic = True\n",
        "    torch.backends.cudnn.benchmark = False\n",
        "\n",
        "    np.random.seed(random_seed)\n",
        "    random.seed(random_seed)\n",
        "\n",
        "torch_seed()"
      ],
      "execution_count": 4,
      "outputs": []
    },
    {
      "cell_type": "code",
      "metadata": {
        "colab": {
          "base_uri": "https://localhost:8080/"
        },
        "id": "Au-tecDl0zRa",
        "outputId": "ee664757-c236-49fd-c401-727733a11dae"
      },
      "source": [
        "!pip install transformers"
      ],
      "execution_count": 5,
      "outputs": [
        {
          "output_type": "stream",
          "text": [
            "Requirement already satisfied: transformers in /usr/local/lib/python3.7/dist-packages (4.8.2)\n",
            "Requirement already satisfied: requests in /usr/local/lib/python3.7/dist-packages (from transformers) (2.23.0)\n",
            "Requirement already satisfied: packaging in /usr/local/lib/python3.7/dist-packages (from transformers) (20.9)\n",
            "Requirement already satisfied: sacremoses in /usr/local/lib/python3.7/dist-packages (from transformers) (0.0.45)\n",
            "Requirement already satisfied: huggingface-hub==0.0.12 in /usr/local/lib/python3.7/dist-packages (from transformers) (0.0.12)\n",
            "Requirement already satisfied: pyyaml in /usr/local/lib/python3.7/dist-packages (from transformers) (3.13)\n",
            "Requirement already satisfied: regex!=2019.12.17 in /usr/local/lib/python3.7/dist-packages (from transformers) (2019.12.20)\n",
            "Requirement already satisfied: filelock in /usr/local/lib/python3.7/dist-packages (from transformers) (3.0.12)\n",
            "Requirement already satisfied: importlib-metadata; python_version < \"3.8\" in /usr/local/lib/python3.7/dist-packages (from transformers) (4.5.0)\n",
            "Requirement already satisfied: tqdm>=4.27 in /usr/local/lib/python3.7/dist-packages (from transformers) (4.41.1)\n",
            "Requirement already satisfied: tokenizers<0.11,>=0.10.1 in /usr/local/lib/python3.7/dist-packages (from transformers) (0.10.3)\n",
            "Requirement already satisfied: numpy>=1.17 in /usr/local/lib/python3.7/dist-packages (from transformers) (1.19.5)\n",
            "Requirement already satisfied: certifi>=2017.4.17 in /usr/local/lib/python3.7/dist-packages (from requests->transformers) (2021.5.30)\n",
            "Requirement already satisfied: idna<3,>=2.5 in /usr/local/lib/python3.7/dist-packages (from requests->transformers) (2.10)\n",
            "Requirement already satisfied: chardet<4,>=3.0.2 in /usr/local/lib/python3.7/dist-packages (from requests->transformers) (3.0.4)\n",
            "Requirement already satisfied: urllib3!=1.25.0,!=1.25.1,<1.26,>=1.21.1 in /usr/local/lib/python3.7/dist-packages (from requests->transformers) (1.24.3)\n",
            "Requirement already satisfied: pyparsing>=2.0.2 in /usr/local/lib/python3.7/dist-packages (from packaging->transformers) (2.4.7)\n",
            "Requirement already satisfied: click in /usr/local/lib/python3.7/dist-packages (from sacremoses->transformers) (7.1.2)\n",
            "Requirement already satisfied: joblib in /usr/local/lib/python3.7/dist-packages (from sacremoses->transformers) (1.0.1)\n",
            "Requirement already satisfied: six in /usr/local/lib/python3.7/dist-packages (from sacremoses->transformers) (1.15.0)\n",
            "Requirement already satisfied: typing-extensions in /usr/local/lib/python3.7/dist-packages (from huggingface-hub==0.0.12->transformers) (3.7.4.3)\n",
            "Requirement already satisfied: zipp>=0.5 in /usr/local/lib/python3.7/dist-packages (from importlib-metadata; python_version < \"3.8\"->transformers) (3.4.1)\n"
          ],
          "name": "stdout"
        }
      ]
    },
    {
      "cell_type": "code",
      "metadata": {
        "id": "tS0rS8vc492r"
      },
      "source": [
        "from transformers import AutoTokenizer\n",
        "tokenizer = AutoTokenizer.from_pretrained(\"beomi/KcELECTRA-base\")"
      ],
      "execution_count": 6,
      "outputs": []
    },
    {
      "cell_type": "code",
      "metadata": {
        "id": "ANDdVitOjoQz"
      },
      "source": [
        "TEXT = data.Field(batch_first = True, \n",
        "                  fix_length = 200, \n",
        "                  tokenize=tokenizer.tokenize, \n",
        "                  pad_first=True, \n",
        "                  pad_token='[PAD]', \n",
        "                  unk_token='[UNK]')\n",
        "LABEL = data.LabelField(dtype=torch.float)\n",
        "\n",
        "train_data = data.TabularDataset(path='/content/drive/MyDrive/train_review.csv', \n",
        "                    format='csv', \n",
        "                    fields=[(\"text\",TEXT),\n",
        "                            (\"label\",LABEL)],  \n",
        "                    skip_header=True)\n",
        "\n",
        "test_data = data.TabularDataset(path='/content/drive/MyDrive/test_review.csv', \n",
        "                    format='csv', \n",
        "                    fields=[(\"text\",TEXT),\n",
        "                            (\"label\",LABEL)],  \n",
        "                    skip_header=True)"
      ],
      "execution_count": 7,
      "outputs": []
    },
    {
      "cell_type": "code",
      "metadata": {
        "colab": {
          "base_uri": "https://localhost:8080/"
        },
        "id": "BLd0StP6joQ1",
        "scrolled": true,
        "outputId": "35620aa5-1e2f-4be7-8e3f-b4a556df5ca4"
      },
      "source": [
        "print(f'Train Data Length : {len(train_data.examples)}')  # 데이터의 개수를 확인\n",
        "print(f'Test Data Length : {len(test_data.examples)}')"
      ],
      "execution_count": 8,
      "outputs": [
        {
          "output_type": "stream",
          "text": [
            "Train Data Length : 50000\n",
            "Test Data Length : 15000\n"
          ],
          "name": "stdout"
        }
      ]
    },
    {
      "cell_type": "code",
      "metadata": {
        "colab": {
          "base_uri": "https://localhost:8080/"
        },
        "id": "TEBkbC1FjoQ6",
        "outputId": "2d3434fc-eb7a-4306-b8fb-fa959b3029c0"
      },
      "source": [
        "print('---- Data Sample ----')\n",
        "print('Input : ')\n",
        "print(' '.join(vars(train_data.examples[0])['text']),'\\n')  # vars() : 데이터의 값을 직접 확인\n",
        "print('Label : ')\n",
        "print(vars(train_data.examples[1])['label'])  "
      ],
      "execution_count": 9,
      "outputs": [
        {
          "output_type": "stream",
          "text": [
            "---- Data Sample ----\n",
            "Input : \n",
            "절대 ##가지 ##마세요 몸 다 상 ##합니다 부서 절대 ##요 \n",
            "\n",
            "Label : \n",
            "0\n"
          ],
          "name": "stdout"
        }
      ]
    },
    {
      "cell_type": "markdown",
      "metadata": {
        "id": "dDdgq_hKjoQ8"
      },
      "source": [
        "## 데이터 전처리"
      ]
    },
    {
      "cell_type": "code",
      "metadata": {
        "id": "21q6HyZDjoQ-"
      },
      "source": [
        "def PreProcessingText(input_sentence):\n",
        "    input_sentence = input_sentence.lower() # 소문자화\n",
        "    input_sentence = re.sub('<[^>]*>', repl= ' ', string = input_sentence) # \"<br />\" 처리\n",
        "    input_sentence = re.sub('[!\"#$%&\\()*+,-./:;<=>?@[\\\\]^_`{|}~]', repl= ' ', string = input_sentence) # 특수문자 처리 (\"'\" 제외)\n",
        "    input_sentence = re.sub('\\s+', repl= ' ', string = input_sentence) # 연속된 띄어쓰기 처리\n",
        "    return input_sentence"
      ],
      "execution_count": 10,
      "outputs": []
    },
    {
      "cell_type": "code",
      "metadata": {
        "id": "XlyYXMkijoRA",
        "scrolled": true
      },
      "source": [
        "# 간단한 Data Cleansing 작업\n",
        "for example in train_data.examples:\n",
        "    vars(example)['text'] = PreProcessingText(' '.join(vars(example)['text'])).split()\n",
        "    \n",
        "for example in test_data.examples:\n",
        "    vars(example)['text'] = PreProcessingText(' '.join(vars(example)['text'])).split()"
      ],
      "execution_count": 11,
      "outputs": []
    },
    {
      "cell_type": "markdown",
      "metadata": {
        "id": "41r8LJ2gjoRB"
      },
      "source": [
        "## 임베딩"
      ]
    },
    {
      "cell_type": "code",
      "metadata": {
        "id": "68LzSlF_1MJ0"
      },
      "source": [
        "model_config = {'emb_type' : '', 'emb_dim' : 300}"
      ],
      "execution_count": 12,
      "outputs": []
    },
    {
      "cell_type": "code",
      "metadata": {
        "id": "tSYPV2O0joRC"
      },
      "source": [
        "# build_vocab() : Text Data와 Label Data의 Vocab을 만듦\n",
        "TEXT.build_vocab(train_data,  \n",
        "                 min_freq = 1,  # vocab에 해당하는 token에 최소한으로 등장하는 횟수 \n",
        "                 max_size = None,  # 전체 vocab size 자체에 제한\n",
        "                 vectors = f\"glove.6B.{model_config['emb_dim']}d\")  # pre-trained vector\n",
        "\n",
        "LABEL.build_vocab(train_data)\n",
        "\n",
        "model_config['vocab_size'] = len(TEXT.vocab) "
      ],
      "execution_count": 13,
      "outputs": []
    },
    {
      "cell_type": "code",
      "metadata": {
        "colab": {
          "base_uri": "https://localhost:8080/"
        },
        "id": "mHuywBPVjoRE",
        "scrolled": true,
        "outputId": "24317878-f431-4c73-e706-a9a776766d37"
      },
      "source": [
        "# Vocabulary Info\n",
        "print(f'Vocab Size : {len(TEXT.vocab)}')\n",
        "\n",
        "print('Vocab Examples : ')\n",
        "for idx, (k, v) in enumerate(TEXT.vocab.stoi.items()):\n",
        "    if idx >= 10:  # 상위 10개 Vacab의 단어와 index 값을 가져옴\n",
        "        break    \n",
        "    print('\\t', k, v)\n",
        "\n",
        "print('---------------------------------')\n",
        "\n",
        "# Label Info\n",
        "print(f'Label Size : {len(LABEL.vocab)}')\n",
        "\n",
        "print('Lable Examples : ')\n",
        "for idx, (k, v) in enumerate(LABEL.vocab.stoi.items()):\n",
        "    print('\\t', k, v)"
      ],
      "execution_count": 14,
      "outputs": [
        {
          "output_type": "stream",
          "text": [
            "Vocab Size : 17394\n",
            "Vocab Examples : \n",
            "\t [UNK] 0\n",
            "\t [PAD] 1\n",
            "\t 회사 2\n",
            "\t 이 3\n",
            "\t 가 4\n",
            "\t 는 5\n",
            "\t 을 6\n",
            "\t 수 7\n",
            "\t 에 8\n",
            "\t 의 9\n",
            "---------------------------------\n",
            "Label Size : 2\n",
            "Lable Examples : \n",
            "\t 0 0\n",
            "\t 1 1\n"
          ],
          "name": "stdout"
        }
      ]
    },
    {
      "cell_type": "markdown",
      "metadata": {
        "id": "5QX3vuJ3joRG"
      },
      "source": [
        "## 데이터셋 분리"
      ]
    },
    {
      "cell_type": "code",
      "metadata": {
        "id": "RfqubZkejoRI"
      },
      "source": [
        "train_data, valid_data = train_data.split(random_state = random.seed(0), split_ratio=0.8)"
      ],
      "execution_count": 15,
      "outputs": []
    },
    {
      "cell_type": "code",
      "metadata": {
        "id": "TO4JSuTQjoRJ"
      },
      "source": [
        "model_config['batch_size'] = 64\n",
        "\n",
        "device = torch.device('cuda' if torch.cuda.is_available() else 'cpu')\n",
        "\n",
        "train_iterator, valid_iterator, test_iterator = data.BucketIterator.splits(datasets=(train_data, valid_data, test_data), \n",
        "                                                                           batch_size=model_config['batch_size'], device=device, sort=False)"
      ],
      "execution_count": 16,
      "outputs": []
    },
    {
      "cell_type": "markdown",
      "metadata": {
        "id": "6c5P8dNHjoRK"
      },
      "source": [
        "## Sample Data"
      ]
    },
    {
      "cell_type": "code",
      "metadata": {
        "colab": {
          "base_uri": "https://localhost:8080/"
        },
        "id": "8A83azXpjoRL",
        "scrolled": true,
        "outputId": "d965a11d-2709-475a-fffd-c82b905907b1"
      },
      "source": [
        "# Check batch data\n",
        "sample_for_check = next(iter(train_iterator))  # 돌아가지 않을 경우 torchtext 버전이 0.3.1 버전이 맞는지 확인\n",
        "print(sample_for_check)\n",
        "print(sample_for_check.text)\n",
        "print(sample_for_check.label)"
      ],
      "execution_count": 17,
      "outputs": [
        {
          "output_type": "stream",
          "text": [
            "\n",
            "[torchtext.data.batch.Batch of size 64]\n",
            "\t[.text]:[torch.cuda.LongTensor of size 64x200 (GPU 0)]\n",
            "\t[.label]:[torch.cuda.FloatTensor of size 64 (GPU 0)]\n",
            "tensor([[   1,    1,    1,  ...,  458,  869,  306],\n",
            "        [   1,    1,    1,  ...,  974,    5,   92],\n",
            "        [   1,    1,    1,  ..., 5843, 1780,  572],\n",
            "        ...,\n",
            "        [   1,    1,    1,  ...,   66,  145,   37],\n",
            "        [   1,    1,    1,  ...,  473,   12, 2816],\n",
            "        [   1,    1,    1,  ...,   16, 1506,   13]], device='cuda:0')\n",
            "tensor([0., 1., 0., 1., 0., 0., 0., 0., 1., 0., 0., 0., 0., 0., 1., 1., 1., 0.,\n",
            "        0., 0., 1., 0., 1., 1., 1., 0., 1., 0., 0., 0., 1., 0., 1., 0., 0., 0.,\n",
            "        0., 0., 1., 0., 1., 1., 0., 1., 0., 1., 0., 1., 1., 1., 1., 1., 1., 0.,\n",
            "        0., 0., 0., 1., 0., 0., 1., 0., 1., 1.], device='cuda:0')\n"
          ],
          "name": "stdout"
        }
      ]
    },
    {
      "cell_type": "code",
      "metadata": {
        "colab": {
          "base_uri": "https://localhost:8080/"
        },
        "id": "X9LzNDTpjoRN",
        "outputId": "db8bbfb7-d59f-4903-9ba1-aeb01ec61e97"
      },
      "source": [
        "print(' '.join([TEXT.vocab.itos[int(x)] for x in sample_for_check.text[0,:] if x not in [0,1]]))\n",
        "print(LABEL.vocab.itos[int(sample_for_check.label[0])]) "
      ],
      "execution_count": 18,
      "outputs": [
        {
          "output_type": "stream",
          "text": [
            "한화 로 매각 진행 중이 므로 미래 불안 정\n",
            "0\n"
          ],
          "name": "stdout"
        }
      ]
    },
    {
      "cell_type": "markdown",
      "metadata": {
        "id": "ggWUn1yfjoRO"
      },
      "source": [
        "## Modeling"
      ]
    },
    {
      "cell_type": "code",
      "metadata": {
        "id": "k6oHoPPcjoRP"
      },
      "source": [
        "class SentenceClassification(nn.Module):\n",
        "    def __init__(self, **model_config):\n",
        "        super(SentenceClassification, self).__init__()\n",
        "\n",
        "        if model_config['emb_type'] == 'glove' or 'fasttext':  \n",
        "            self.emb = nn.Embedding(num_embeddings = model_config['vocab_size'],  \n",
        "                                    embedding_dim = model_config['emb_dim'],  #\n",
        "                                    _weight = TEXT.vocab.vectors) \n",
        "                                                                 \n",
        "        else:\n",
        "            self.emb = nn.Embedding(num_embeddings = model_config['vocab_size'],\n",
        "                                    embedding_dim = model_config['emb_dim'])\n",
        "        \n",
        "        self.model_type =  model_config['model_type']\n",
        "        self.bidirectional = model_config['bidirectional'] \n",
        "        self.num_direction = 2 if model_config['bidirectional'] else 1\n",
        "        self.model_type = model_config['model_type'] \n",
        "        self.num_layers = model_config['num_layers']\n",
        "\n",
        "        self.RNN = nn.RNN (input_size = model_config['emb_dim'],  \n",
        "                           hidden_size = model_config['hidden_dim'],  \n",
        "                           dropout = model_config['dropout'],\n",
        "                           nonlinearity = 'tanh',\n",
        "                           num_layers = model_config['num_layers'],  \n",
        "                           bidirectional = model_config['bidirectional'], \n",
        "                           batch_first = model_config['batch_first'])\n",
        "         \n",
        "        self.LSTM = nn.LSTM(input_size = model_config['emb_dim'], \n",
        "                            hidden_size = model_config['hidden_dim'], \n",
        "                            dropout = model_config['dropout'], \n",
        "                            bidirectional = model_config['bidirectional'],\n",
        "                            num_layers = model_config['num_layers'], \n",
        "                            batch_first = model_config['batch_first'])\n",
        "\n",
        "        self.GRU = nn.GRU(input_size = model_config['emb_dim'], \n",
        "                          hidden_size = model_config['hidden_dim'], \n",
        "                          dropout = model_config['dropout'], \n",
        "                          bidirectional = model_config['bidirectional'],\n",
        "                          num_layers = model_config['num_layers'], \n",
        "                          batch_first = model_config['batch_first'])\n",
        "    \n",
        "        self.fc = nn.Linear(model_config['hidden_dim'] * self.num_direction, model_config['output_dim'])\n",
        "        \n",
        "        self.drop = nn.Dropout(model_config['dropout'])\n",
        "\n",
        "    def forward(self, x):\n",
        "        emb = self.drop(self.emb(x))\n",
        "\n",
        "        if self.model_type == 'RNN':\n",
        "          out, h = self.RNN(emb) \n",
        "          last_output = out[:,-1,:]\n",
        "        elif self.model_type == 'LSTM':\n",
        "          out, (h, c) = self.LSTM(emb)\n",
        "          last_output = out[:,-1,:]\n",
        "        elif self.model_type == 'GRU':\n",
        "          out, h = self.GRU(emb)\n",
        "          last_output = out[:,-1,:]\n",
        "\n",
        "        return self.fc(self.drop(last_output))"
      ],
      "execution_count": 19,
      "outputs": []
    },
    {
      "cell_type": "code",
      "metadata": {
        "id": "_PEdP0IIz1zS"
      },
      "source": [
        "def binary_accuracy(preds, y):\n",
        "    rounded_preds = torch.round(torch.sigmoid(preds))\n",
        "    correct = (rounded_preds == y).float() \n",
        "    acc = correct.sum()/len(correct)\n",
        "    return acc"
      ],
      "execution_count": 20,
      "outputs": []
    },
    {
      "cell_type": "markdown",
      "metadata": {
        "id": "DnEb36uUjoRQ"
      },
      "source": [
        "### Training"
      ]
    },
    {
      "cell_type": "code",
      "metadata": {
        "id": "K_AXLRJEjoRR"
      },
      "source": [
        "def train(model, iterator, optimizer, loss_fn, idx_epoch, **model_params):\n",
        "    \n",
        "    epoch_loss = 0\n",
        "    epoch_acc = 0\n",
        "    \n",
        "    model.train() \n",
        "    batch_size = model_params['batch_size']\n",
        "\n",
        "    for idx, batch in enumerate(iterator):\n",
        "        \n",
        "        # Initializing\n",
        "        optimizer.zero_grad()\n",
        "        \n",
        "        # Forward \n",
        "        predictions = model(batch.text).squeeze()\n",
        "        loss = loss_fn(predictions, batch.label)\n",
        "        acc = binary_accuracy(predictions, batch.label)\n",
        "        \n",
        "        sys.stdout.write(\n",
        "                    \"\\r\" + f\"[Train] Epoch : {idx_epoch:^3}\"\\\n",
        "                    f\"[{(idx + 1) * batch_size} / {len(iterator) * batch_size} ({100. * (idx + 1) / len(iterator) :.4}%)]\"\\\n",
        "                    f\"  Loss: {loss.item():.4}\"\\\n",
        "                    f\"  Acc : {acc.item():.4}\")\n",
        "\n",
        "        # Backward \n",
        "        loss.backward()\n",
        "        optimizer.step()\n",
        "        \n",
        "        # Update Epoch Performance\n",
        "        epoch_loss += loss.item()\n",
        "        epoch_acc += acc.item()\n",
        "        \n",
        "    return epoch_loss/len(iterator) , epoch_acc/len(iterator) "
      ],
      "execution_count": 21,
      "outputs": []
    },
    {
      "cell_type": "code",
      "metadata": {
        "id": "1Gptn6fUjoRS"
      },
      "source": [
        "def evaluate(model, iterator, loss_fn):\n",
        "    \n",
        "    epoch_loss = 0\n",
        "    epoch_acc = 0\n",
        "    \n",
        "    # evaluation mode\n",
        "    model.eval()\n",
        "    with torch.no_grad():\n",
        "        for batch in iterator:\n",
        "            predictions = model(batch.text).squeeze(1)\n",
        "            loss = loss_fn(predictions, batch.label)\n",
        "            acc = binary_accuracy(predictions, batch.label)\n",
        "\n",
        "            epoch_loss += loss.item()\n",
        "            epoch_acc += acc.item()\n",
        "        \n",
        "    return epoch_loss / len(iterator), epoch_acc / len(iterator)"
      ],
      "execution_count": 22,
      "outputs": []
    },
    {
      "cell_type": "markdown",
      "metadata": {
        "id": "9Qs74UOnjoRd"
      },
      "source": [
        "### GRU"
      ]
    },
    {
      "cell_type": "code",
      "metadata": {
        "id": "G0eWy3HZ49jb"
      },
      "source": [
        "model_config.update(dict(batch_first = True,\n",
        "                         model_type = '',\n",
        "                         bidirectional = True,\n",
        "                         num_layers = 2,\n",
        "                         hidden_dim = 128,\n",
        "                         output_dim = 1,\n",
        "                         dropout = 0))"
      ],
      "execution_count": 23,
      "outputs": []
    },
    {
      "cell_type": "code",
      "metadata": {
        "id": "9Ph66DcDjoRe"
      },
      "source": [
        "model_config['model_type'] = 'GRU'\n",
        "model_gru = SentenceClassification(**model_config).to(device)\n",
        "optimizer = torch.optim.Adam(model_gru.parameters(), lr = 0.003)\n",
        "loss_fn = nn.BCEWithLogitsLoss().to(device)"
      ],
      "execution_count": 24,
      "outputs": []
    },
    {
      "cell_type": "code",
      "metadata": {
        "colab": {
          "base_uri": "https://localhost:8080/"
        },
        "id": "L7SPyElwjoRe",
        "outputId": "f3a71a0f-7104-444a-d4b8-9878763e9ed6"
      },
      "source": [
        "N_EPOCH = 5\n",
        "\n",
        "train_loss_arr = []\n",
        "valid_loss_arr = []\n",
        "\n",
        "best_valid_loss = float('inf')\n",
        "model_name = f\"{'bi-' if model_config['bidirectional'] else ''}{model_config['model_type']}_{model_config['emb_type']}\"\n",
        "\n",
        "print('---------------------------------')\n",
        "print(f'Model name : {model_name}')\n",
        "print('---------------------------------')\n",
        "\n",
        "for epoch in range(N_EPOCH):\n",
        "    train_loss, train_acc = train(model_gru, train_iterator, optimizer, loss_fn, epoch, **model_config)\n",
        "    valid_loss, valid_acc = evaluate(model_gru, valid_iterator, loss_fn)\n",
        "    train_loss_arr.append(train_loss)\n",
        "    valid_loss_arr.append(valid_loss)\n",
        "    print('')\n",
        "    if valid_loss < best_valid_loss:\n",
        "        best_valid_loss = valid_loss\n",
        "        torch.save(model_gru.state_dict(), f'./{model_name}.pt')\n",
        "        print(f'\\t Saved at {epoch}-epoch')\n",
        "\n",
        "    print(f'\\t Epoch : {epoch} | Train Loss : {train_loss:.4} | Train Acc : {train_acc:.4}')\n",
        "    print(f'\\t Epoch : {epoch} | Valid Loss : {valid_loss:.4} | Valid Acc : {valid_acc:.4}')"
      ],
      "execution_count": 25,
      "outputs": [
        {
          "output_type": "stream",
          "text": [
            "---------------------------------\n",
            "Model name : bi-GRU_\n",
            "---------------------------------\n",
            "[Train] Epoch :  0 [40000 / 40000 (100.0%)]  Loss: 0.3944  Acc : 0.8438\n",
            "\t Saved at 0-epoch\n",
            "\t Epoch : 0 | Train Loss : 0.4682 | Train Acc : 0.7798\n",
            "\t Epoch : 0 | Valid Loss : 0.4198 | Valid Acc : 0.8105\n",
            "[Train] Epoch :  1 [40000 / 40000 (100.0%)]  Loss: 0.3694  Acc : 0.8125\n",
            "\t Epoch : 1 | Train Loss : 0.3397 | Train Acc : 0.8549\n",
            "\t Epoch : 1 | Valid Loss : 0.4688 | Valid Acc : 0.8049\n",
            "[Train] Epoch :  2 [40000 / 40000 (100.0%)]  Loss: 0.3531  Acc : 0.8438\n",
            "\t Epoch : 2 | Train Loss : 0.2586 | Train Acc : 0.8943\n",
            "\t Epoch : 2 | Valid Loss : 0.4771 | Valid Acc : 0.7944\n",
            "[Train] Epoch :  3 [40000 / 40000 (100.0%)]  Loss: 0.2613  Acc : 0.9062\n",
            "\t Epoch : 3 | Train Loss : 0.1904 | Train Acc : 0.9228\n",
            "\t Epoch : 3 | Valid Loss : 0.6018 | Valid Acc : 0.7901\n",
            "[Train] Epoch :  4 [40000 / 40000 (100.0%)]  Loss: 0.09248  Acc : 0.9844\n",
            "\t Epoch : 4 | Train Loss : 0.1444 | Train Acc : 0.9427\n",
            "\t Epoch : 4 | Valid Loss : 0.7079 | Valid Acc : 0.7819\n"
          ],
          "name": "stdout"
        }
      ]
    },
    {
      "cell_type": "code",
      "metadata": {
        "colab": {
          "base_uri": "https://localhost:8080/",
          "height": 265
        },
        "id": "jwfltye-_tkt",
        "outputId": "d2723f10-c3e2-432d-a192-783eceae3a60"
      },
      "source": [
        "import matplotlib.pyplot as plt\n",
        "\n",
        "plt.plot(train_loss_arr, label='train')\n",
        "plt.plot(valid_loss_arr, label='valid')\n",
        "plt.legend()\n",
        "plt.show()"
      ],
      "execution_count": 26,
      "outputs": [
        {
          "output_type": "display_data",
          "data": {
            "image/png": "[encoded data removed]",
            "text/plain": [
              "<Figure size 432x288 with 1 Axes>"
            ]
          },
          "metadata": {
            "tags": [],
            "needs_background": "light"
          }
        }
      ]
    },
    {
      "cell_type": "code",
      "metadata": {
        "colab": {
          "base_uri": "https://localhost:8080/"
        },
        "id": "pRlPMFctjoRg",
        "outputId": "8932c9ca-9789-4047-be71-d6df2a43f115"
      },
      "source": [
        "# Test set\n",
        "model_gru.load_state_dict(torch.load(f'./{model_name}.pt'))\n",
        "test_loss, test_acc = evaluate(model_gru, test_iterator, loss_fn)\n",
        "print(f'Test Loss : {test_loss:.4} | Test Acc : {test_acc:.4}')"
      ],
      "execution_count": 27,
      "outputs": [
        {
          "output_type": "stream",
          "text": [
            "Test Loss : 0.4314 | Test Acc : 0.806\n"
          ],
          "name": "stdout"
        }
      ]
    },
    {
      "cell_type": "markdown",
      "metadata": {
        "id": "oXhyuPm_joRV"
      },
      "source": [
        "### bi-RNN"
      ]
    },
    {
      "cell_type": "code",
      "metadata": {
        "id": "PoeEO2HQ5SAA"
      },
      "source": [
        "model_config.update(dict(batch_first = True,\n",
        "                         model_type = '',\n",
        "                         bidirectional = True,\n",
        "                         num_layers = 2,\n",
        "                         hidden_dim = 128,\n",
        "                         output_dim = 1,\n",
        "                         dropout = 0))"
      ],
      "execution_count": 28,
      "outputs": []
    },
    {
      "cell_type": "code",
      "metadata": {
        "id": "RsIyyXmqjoRW"
      },
      "source": [
        "model_config['model_type'] = 'RNN'\n",
        "model_rnn = SentenceClassification(**model_config).to(device)\n",
        "optimizer = torch.optim.Adam(model_rnn.parameters(), lr = 0.003)\n",
        "loss_fn = nn.BCEWithLogitsLoss().to(device)"
      ],
      "execution_count": 29,
      "outputs": []
    },
    {
      "cell_type": "code",
      "metadata": {
        "colab": {
          "base_uri": "https://localhost:8080/"
        },
        "id": "r2667FUojoRX",
        "outputId": "a0c33695-9bad-4af2-d1b6-f4ba855d51e8"
      },
      "source": [
        "N_EPOCH = 5\n",
        "\n",
        "train_loss_arr = []\n",
        "valid_loss_arr = []\n",
        "\n",
        "best_valid_loss = float('inf')\n",
        "model_name = f\"{'bi-' if model_config['bidirectional'] else ''}{model_config['model_type']}_{model_config['emb_type']}\"\n",
        "\n",
        "print('---------------------------------')\n",
        "print(f'Model name : {model_name}')\n",
        "print('---------------------------------')\n",
        "\n",
        "for epoch in range(N_EPOCH):\n",
        "    train_loss, train_acc = train(model_rnn, train_iterator, optimizer, loss_fn, epoch, **model_config)\n",
        "    valid_loss, valid_acc = evaluate(model_rnn, valid_iterator, loss_fn)\n",
        "    train_loss_arr.append(train_loss)\n",
        "    valid_loss_arr.append(valid_loss)\n",
        "    print('')\n",
        "    if valid_loss < best_valid_loss:\n",
        "        best_valid_loss = valid_loss\n",
        "        torch.save(model_rnn.state_dict(), f'./{model_name}.pt')\n",
        "        print(f'\\t Saved at {epoch}-epoch')\n",
        "\n",
        "    print(f'\\t Epoch : {epoch} | Train Loss : {train_loss:.4} | Train Acc : {train_acc:.4}')\n",
        "    print(f'\\t Epoch : {epoch} | Valid Loss : {valid_loss:.4} | Valid Acc : {valid_acc:.4}')"
      ],
      "execution_count": 30,
      "outputs": [
        {
          "output_type": "stream",
          "text": [
            "---------------------------------\n",
            "Model name : bi-RNN_\n",
            "---------------------------------\n",
            "[Train] Epoch :  0 [40000 / 40000 (100.0%)]  Loss: 0.5484  Acc : 0.7656\n",
            "\t Saved at 0-epoch\n",
            "\t Epoch : 0 | Train Loss : 0.5573 | Train Acc : 0.7221\n",
            "\t Epoch : 0 | Valid Loss : 0.577 | Valid Acc : 0.72\n",
            "[Train] Epoch :  1 [40000 / 40000 (100.0%)]  Loss: 0.3268  Acc : 0.875\n",
            "\t Saved at 1-epoch\n",
            "\t Epoch : 1 | Train Loss : 0.4851 | Train Acc : 0.7769\n",
            "\t Epoch : 1 | Valid Loss : 0.502 | Valid Acc : 0.7736\n",
            "[Train] Epoch :  2 [40000 / 40000 (100.0%)]  Loss: 0.418  Acc : 0.8125\n",
            "\t Epoch : 2 | Train Loss : 0.4198 | Train Acc : 0.8187\n",
            "\t Epoch : 2 | Valid Loss : 0.512 | Valid Acc : 0.7693\n",
            "[Train] Epoch :  3 [40000 / 40000 (100.0%)]  Loss: 0.5723  Acc : 0.7188\n",
            "\t Epoch : 3 | Train Loss : 0.4156 | Train Acc : 0.819\n",
            "\t Epoch : 3 | Valid Loss : 0.5185 | Valid Acc : 0.7529\n",
            "[Train] Epoch :  4 [40000 / 40000 (100.0%)]  Loss: 0.5398  Acc : 0.7656\n",
            "\t Epoch : 4 | Train Loss : 0.3974 | Train Acc : 0.8286\n",
            "\t Epoch : 4 | Valid Loss : 0.5125 | Valid Acc : 0.7631\n"
          ],
          "name": "stdout"
        }
      ]
    },
    {
      "cell_type": "code",
      "metadata": {
        "colab": {
          "base_uri": "https://localhost:8080/",
          "height": 265
        },
        "id": "-b3n5K00k9v5",
        "outputId": "5b9fbea1-98c2-450b-9592-db007ecfe2bf"
      },
      "source": [
        "import matplotlib.pyplot as plt\n",
        "\n",
        "plt.plot(train_loss_arr, label='train')\n",
        "plt.plot(valid_loss_arr, label='valid')\n",
        "plt.legend()\n",
        "plt.show()"
      ],
      "execution_count": 31,
      "outputs": [
        {
          "output_type": "display_data",
          "data": {
            "image/png": "[encoded data removed]",
            "text/plain": [
              "<Figure size 432x288 with 1 Axes>"
            ]
          },
          "metadata": {
            "tags": [],
            "needs_background": "light"
          }
        }
      ]
    },
    {
      "cell_type": "code",
      "metadata": {
        "colab": {
          "base_uri": "https://localhost:8080/"
        },
        "id": "d5i1_8QGjoRY",
        "outputId": "d5d6b31c-63a6-48fa-f99c-6a48be74cbd8"
      },
      "source": [
        "# Test set\n",
        "model_rnn.load_state_dict(torch.load(f'./{model_name}.pt'))\n",
        "test_loss, test_acc = evaluate(model_rnn, test_iterator, loss_fn)\n",
        "print(f'Test Loss : {test_loss:.4} | Test Acc : {test_acc:.4}')"
      ],
      "execution_count": 32,
      "outputs": [
        {
          "output_type": "stream",
          "text": [
            "Test Loss : 0.5088 | Test Acc : 0.7676\n"
          ],
          "name": "stdout"
        }
      ]
    },
    {
      "cell_type": "markdown",
      "metadata": {
        "id": "bFLcIiF9joRa"
      },
      "source": [
        "### LSTM"
      ]
    },
    {
      "cell_type": "code",
      "metadata": {
        "id": "qWZG-WXb5XSZ"
      },
      "source": [
        "model_config.update(dict(batch_first = True,\n",
        "                         model_type = '',\n",
        "                         bidirectional = True,\n",
        "                         num_layers = 2,\n",
        "                         hidden_dim = 128,\n",
        "                         output_dim = 1,\n",
        "                         dropout = 0))"
      ],
      "execution_count": 33,
      "outputs": []
    },
    {
      "cell_type": "code",
      "metadata": {
        "id": "N4YyrABxjoRa"
      },
      "source": [
        "model_config['model_type'] = 'LSTM'\n",
        "model_lstm = SentenceClassification(**model_config).to(device)\n",
        "optimizer = torch.optim.Adam(model_lstm.parameters(), lr = 0.003)\n",
        "loss_fn = nn.BCEWithLogitsLoss().to(device)"
      ],
      "execution_count": 34,
      "outputs": []
    },
    {
      "cell_type": "code",
      "metadata": {
        "colab": {
          "base_uri": "https://localhost:8080/"
        },
        "id": "2QNFPEC9joRb",
        "outputId": "56b0571b-10ac-4f4a-9d97-ba4991fa5ea7"
      },
      "source": [
        "N_EPOCH = 5\n",
        "\n",
        "train_loss_arr = []\n",
        "valid_loss_arr = []\n",
        "\n",
        "best_valid_loss = float('inf')\n",
        "model_name = f\"{'bi-' if model_config['bidirectional'] else ''}{model_config['model_type']}_{model_config['emb_type']}\"\n",
        "\n",
        "print('---------------------------------')\n",
        "print(f'Model name : {model_name}')\n",
        "print('---------------------------------')\n",
        "\n",
        "for epoch in range(N_EPOCH):\n",
        "    train_loss, train_acc = train(model_lstm, train_iterator, optimizer, loss_fn, epoch, **model_config)\n",
        "    valid_loss, valid_acc = evaluate(model_lstm, valid_iterator, loss_fn)\n",
        "    train_loss_arr.append(train_loss)\n",
        "    valid_loss_arr.append(valid_loss)\n",
        "    print('')\n",
        "    if valid_loss < best_valid_loss:\n",
        "        best_valid_loss = valid_loss\n",
        "        torch.save(model_lstm.state_dict(), f'./{model_name}.pt')\n",
        "        print(f'\\t Saved at {epoch}-epoch')\n",
        "\n",
        "    print(f'\\t Epoch : {epoch} | Train Loss : {train_loss:.4} | Train Acc : {train_acc:.4}')\n",
        "    print(f'\\t Epoch : {epoch} | Valid Loss : {valid_loss:.4} | Valid Acc : {valid_acc:.4}')"
      ],
      "execution_count": 35,
      "outputs": [
        {
          "output_type": "stream",
          "text": [
            "---------------------------------\n",
            "Model name : bi-LSTM_\n",
            "---------------------------------\n",
            "[Train] Epoch :  0 [40000 / 40000 (100.0%)]  Loss: 0.3893  Acc : 0.8594\n",
            "\t Saved at 0-epoch\n",
            "\t Epoch : 0 | Train Loss : 0.4829 | Train Acc : 0.7737\n",
            "\t Epoch : 0 | Valid Loss : 0.4363 | Valid Acc : 0.8076\n",
            "[Train] Epoch :  1 [40000 / 40000 (100.0%)]  Loss: 0.4718  Acc : 0.7344\n",
            "\t Saved at 1-epoch\n",
            "\t Epoch : 1 | Train Loss : 0.3586 | Train Acc : 0.8454\n",
            "\t Epoch : 1 | Valid Loss : 0.4275 | Valid Acc : 0.8129\n",
            "[Train] Epoch :  2 [40000 / 40000 (100.0%)]  Loss: 0.3643  Acc : 0.8594\n",
            "\t Epoch : 2 | Train Loss : 0.2894 | Train Acc : 0.88\n",
            "\t Epoch : 2 | Valid Loss : 0.4683 | Valid Acc : 0.7995\n",
            "[Train] Epoch :  3 [40000 / 40000 (100.0%)]  Loss: 0.3616  Acc : 0.8281\n",
            "\t Epoch : 3 | Train Loss : 0.2318 | Train Acc : 0.9052\n",
            "\t Epoch : 3 | Valid Loss : 0.5687 | Valid Acc : 0.7969\n",
            "[Train] Epoch :  4 [40000 / 40000 (100.0%)]  Loss: 0.3791  Acc : 0.8281\n",
            "\t Epoch : 4 | Train Loss : 0.1812 | Train Acc : 0.9279\n",
            "\t Epoch : 4 | Valid Loss : 0.6087 | Valid Acc : 0.7816\n"
          ],
          "name": "stdout"
        }
      ]
    },
    {
      "cell_type": "code",
      "metadata": {
        "colab": {
          "base_uri": "https://localhost:8080/",
          "height": 265
        },
        "id": "MY8kH6mvk8kP",
        "outputId": "fda3fc0f-8adf-4528-8d30-d2fbb87f80b5"
      },
      "source": [
        "import matplotlib.pyplot as plt\n",
        "\n",
        "plt.plot(train_loss_arr, label='train')\n",
        "plt.plot(valid_loss_arr, label='valid')\n",
        "plt.legend()\n",
        "plt.show()"
      ],
      "execution_count": 36,
      "outputs": [
        {
          "output_type": "display_data",
          "data": {
            "image/png": "[encoded data removed]",
            "text/plain": [
              "<Figure size 432x288 with 1 Axes>"
            ]
          },
          "metadata": {
            "tags": [],
            "needs_background": "light"
          }
        }
      ]
    },
    {
      "cell_type": "code",
      "metadata": {
        "colab": {
          "base_uri": "https://localhost:8080/"
        },
        "id": "9KuzcfHojoRc",
        "outputId": "ad250a3f-0171-4aaf-ec8f-31f7d0d466d9"
      },
      "source": [
        "# Test set\n",
        "model_lstm.load_state_dict(torch.load(f'./{model_name}.pt'))\n",
        "test_loss, test_acc = evaluate(model_lstm, test_iterator, loss_fn)\n",
        "print(f'Test Loss : {test_loss:.4} | Test Acc : {test_acc:.4}')"
      ],
      "execution_count": 37,
      "outputs": [
        {
          "output_type": "stream",
          "text": [
            "Test Loss : 0.4394 | Test Acc : 0.8045\n"
          ],
          "name": "stdout"
        }
      ]
    },
    {
      "cell_type": "code",
      "metadata": {
        "id": "ek_EXgO86d9K"
      },
      "source": [
        ""
      ],
      "execution_count": 37,
      "outputs": []
    }
  ]
}